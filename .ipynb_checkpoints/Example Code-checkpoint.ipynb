{
 "cells": [
  {
   "cell_type": "markdown",
   "metadata": {},
   "source": [
    "# 1. What's python"
   ]
  },
  {
   "cell_type": "markdown",
   "metadata": {},
   "source": [
    "### Introduction to interpreted language"
   ]
  },
  {
   "cell_type": "markdown",
   "metadata": {},
   "source": [
    "## 1-1. Math Handling"
   ]
  },
  {
   "cell_type": "code",
   "execution_count": null,
   "metadata": {},
   "outputs": [],
   "source": [
    "# -*- coding: utf-8 -*-\n",
    "#here's an example for single data swaping\n",
    "\n",
    "a, b = 2, 3\n",
    "print(a, b)\n",
    "\n",
    "a, b = b, a\n",
    "print(a, b)\n"
   ]
  },
  {
   "cell_type": "markdown",
   "metadata": {},
   "source": [
    "## 1-2. Math Chart Plotting"
   ]
  },
  {
   "cell_type": "code",
   "execution_count": null,
   "metadata": {},
   "outputs": [],
   "source": [
    "# -*- coding: utf-8 -*-\n",
    "#here's another example to show how easily to use python to draw mathmatic charts\n",
    "\n",
    "import numpy as np\n",
    "import matplotlib.pyplot as mplt\n",
    "\n",
    "data = np.arange(0,360)\n",
    "sin_wave = np.sin( 2 * data * np.pi / 180.0)\n",
    "cos_wave = np.cos( data * np.pi / 180.0)\n",
    "\n",
    "mplt.plot(data, sin_wave, color=\"blue\",label=\"SIN(2x)\")\n",
    "mplt.plot(data, cos_wave, color=\"red\",label=\"COS(x)\")\n",
    "\n",
    "mplt.xlim(0,360)\n",
    "mplt.ylim(-1.2,1.2)\n",
    "\n",
    "mplt.xlabel(\"Degree\")\n",
    "mplt.ylabel(\"Value\")\n",
    "\n",
    "mplt.title(\"SIN & COS function\")\n",
    "\n",
    "#show the sign for sine wave and cosine wave\n",
    "mplt.legend()\n",
    "mplt.show()\n",
    "\n",
    "\n"
   ]
  },
  {
   "cell_type": "markdown",
   "metadata": {},
   "source": [
    "# 2. Basic Syntax"
   ]
  },
  {
   "cell_type": "markdown",
   "metadata": {},
   "source": [
    "## 2-1. "
   ]
  },
  {
   "cell_type": "markdown",
   "metadata": {},
   "source": [
    " "
   ]
  },
  {
   "cell_type": "markdown",
   "metadata": {},
   "source": [
    "# 3. Compound Statements"
   ]
  },
  {
   "cell_type": "markdown",
   "metadata": {},
   "source": [
    "## 3-1. if/elif/else"
   ]
  },
  {
   "cell_type": "code",
   "execution_count": null,
   "metadata": {},
   "outputs": [],
   "source": [
    "# _*_ coding: utf-8 _*_\n",
    "#here's an example of if/elif/else\n",
    "\n",
    "score = int(input(\"Please input your score(0~100):\"))\n",
    "\n",
    "if score >= 90:\n",
    "    print(\"Excellent\")\n",
    "elif score >= 60:\n",
    "    print(\"passed\")\n",
    "else:\n",
    "    print(\"Failed\")"
   ]
  },
  {
   "cell_type": "markdown",
   "metadata": {},
   "source": [
    "## 3-2. for / range"
   ]
  },
  {
   "cell_type": "code",
   "execution_count": 3,
   "metadata": {},
   "outputs": [
    {
     "name": "stdout",
     "output_type": "stream",
     "text": [
      "1X1=1\t1X2=2\t1X3=3\t1X4=4\t1X5=5\t1X6=6\t1X7=7\t1X8=8\t1X9=9\t2X1=2\t2X2=4\t2X3=6\t2X4=8\t2X5=10\t2X6=12\t2X7=14\t2X8=16\t2X9=18\t3X1=3\t3X2=6\t3X3=9\t3X4=12\t3X5=15\t3X6=18\t3X7=21\t3X8=24\t3X9=27\t4X1=4\t4X2=8\t4X3=12\t4X4=16\t4X5=20\t4X6=24\t4X7=28\t4X8=32\t4X9=36\t5X1=5\t5X2=10\t5X3=15\t5X4=20\t5X5=25\t5X6=30\t5X7=35\t5X8=40\t5X9=45\t6X1=6\t6X2=12\t6X3=18\t6X4=24\t6X5=30\t6X6=36\t6X7=42\t6X8=48\t6X9=54\t7X1=7\t7X2=14\t7X3=21\t7X4=28\t7X5=35\t7X6=42\t7X7=49\t7X8=56\t7X9=63\t8X1=8\t8X2=16\t8X3=24\t8X4=32\t8X5=40\t8X6=48\t8X7=56\t8X8=64\t8X9=72\t9X1=9\t9X2=18\t9X3=27\t9X4=36\t9X5=45\t9X6=54\t9X7=63\t9X8=72\t9X9=81\t"
     ]
    }
   ],
   "source": [
    "# _*_ coding: utf-8 _*_\n",
    "#here's an example of for + range\n",
    "\n",
    "for i in range(1,10):\n",
    "    for j in range(1,10):\n",
    "        k = i*j\n",
    "        #use format function to put i,j,k value on {} in order \n",
    "        print('{}X{}={}\\t'.format(i,j,k),end='')"
   ]
  },
  {
   "cell_type": "markdown",
   "metadata": {},
   "source": [
    "## 3-2. for / enumerate "
   ]
  },
  {
   "cell_type": "code",
   "execution_count": 5,
   "metadata": {},
   "outputs": [
    {
     "name": "stdout",
     "output_type": "stream",
     "text": [
      "0 p\n",
      "1 y\n",
      "2 t\n",
      "3 h\n",
      "4 o\n",
      "5 n\n"
     ]
    }
   ],
   "source": [
    "# _*_ coding: utf-8 _*_\n",
    "#here's an example of for + enumerate\n",
    "\n",
    "for i, j in enumerate('python'):\n",
    "    print(i, j)\n"
   ]
  },
  {
   "cell_type": "markdown",
   "metadata": {},
   "source": [
    "## 3-3. while / break"
   ]
  },
  {
   "cell_type": "code",
   "execution_count": null,
   "metadata": {},
   "outputs": [],
   "source": [
    "# _*_ coding: utf-8 _*_\n",
    "#here's an example for designing a game in using python logic.\n",
    "#game of guessing number on a dice:\n",
    "\n",
    "import random\n",
    "\n",
    "while True:\n",
    "    guess_ct = 0\n",
    "    \n",
    "    #give dice a value from 1 to 6\n",
    "    dice = random.randint(1,6)\n",
    "\n",
    "    while True:\n",
    "        #keyin a number\n",
    "        guess_num = int(input(\"Guess the dice number ：\"))\n",
    "        guess_ct += 1\n",
    "        \n",
    "        if guess_num == dice:\n",
    "            print(\"Good Guess!\")\n",
    "            print(\"You've guessed \" + str(guess_ct) + \" times\")\n",
    "            break;\n",
    "        \n",
    "        elif guess_num > dice:\n",
    "            print(\"Make it smaller\")\n",
    "        else:\n",
    "            print(\"Make it bigger\")\n",
    "    break;"
   ]
  },
  {
   "cell_type": "markdown",
   "metadata": {},
   "source": [
    "## 3-4. try/except"
   ]
  },
  {
   "cell_type": "code",
   "execution_count": null,
   "metadata": {},
   "outputs": [],
   "source": []
  },
  {
   "cell_type": "markdown",
   "metadata": {},
   "source": [
    "# 4. Modules"
   ]
  },
  {
   "cell_type": "markdown",
   "metadata": {},
   "source": [
    "## 4-1. Define function"
   ]
  },
  {
   "cell_type": "code",
   "execution_count": null,
   "metadata": {},
   "outputs": [],
   "source": [
    "# _*_ coding: utf-8 _*_\n",
    "#here's an example for how to define a function\n",
    "\n",
    "#define a function \"addn\" which has two inputs x,y\n",
    "def addn(x, y):\n",
    "    global g\n",
    "    z = x + y\n",
    "    g = x + y\n",
    "    print(\"Step2. In the defined function: (z={}, g={})\".format(z,g))\n",
    "    return z\n",
    "\n",
    "z = 100\n",
    "g = 200\n",
    "print(\"Step1. Before calling the defined function: (z={}, g={})\".format(z,g))\n",
    "\n",
    "#give function addn two inputs 1,3 and execute the function\n",
    "print(\"Step3. {} + {} = {}\".format(1, 3, addn(1, 3)))\n",
    "\n",
    "\n",
    "print(\"Step4. After calling the defined function: (z={}, g={})\".format(z,g))\n",
    "\n"
   ]
  },
  {
   "cell_type": "markdown",
   "metadata": {},
   "source": [
    "## 4-2. Import Module"
   ]
  },
  {
   "cell_type": "code",
   "execution_count": null,
   "metadata": {},
   "outputs": [],
   "source": [
    "# -*- coding: utf-8 -*-\n",
    "#here's an example for how easily python using function in other modules\n",
    "\n",
    "import random\n",
    "\n",
    "lunch = ['KFC','Subway','BurgerKing','Din Tai Fung']\n",
    "print(\"Today's Lunch is: \" + random.choice(lunch))\n"
   ]
  },
  {
   "cell_type": "markdown",
   "metadata": {},
   "source": [
    "## 4-3. Create Module"
   ]
  },
  {
   "cell_type": "code",
   "execution_count": null,
   "metadata": {},
   "outputs": [],
   "source": [
    "# _*_ coding: utf-8 _*_\n",
    "#here's an example for how to create a module and import\n",
    "\n",
    "from module_diy import addn_m\n",
    "a = 1\n",
    "b = 2\n",
    "\n",
    "#calling a function \"addn\" inside the addn_m module with two inputs a,b\n",
    "s = addn_m.addn(a,b)\n",
    "print (s)\n",
    "\n",
    "\n",
    "## 4-2. Import Module"
   ]
  },
  {
   "cell_type": "markdown",
   "metadata": {},
   "source": [
    "# 5. Input & Output"
   ]
  },
  {
   "cell_type": "markdown",
   "metadata": {},
   "source": [
    "## Input"
   ]
  },
  {
   "cell_type": "code",
   "execution_count": null,
   "metadata": {},
   "outputs": [],
   "source": [
    "# _*_ coding: utf-8 _*_\n",
    "#here's an example for calculate the word using frequency\n",
    "\n",
    "import re\n",
    "\n",
    "#open the txt and read\n",
    "fp = open(\"DT_speech2018.txt\", \"r\")\n",
    "article = fp.read()\n",
    "new_article = re.sub(\"[^a-zA-Z\\s]\", \"\", article)\n",
    "words = new_article.split()\n",
    "word_counts = {}\n",
    "\n",
    "for word in words:\n",
    "    if word.upper() in word_counts:\n",
    "        word_counts[word.upper()] = word_counts[word.upper()] + 1\n",
    "    else:\n",
    "        word_counts[word.upper()] = 1\n",
    "\n",
    "key_list = list(word_counts.keys())\n",
    "key_list.sort()\n",
    "for key in key_list:\n",
    "    if word_counts[key] > 10:\n",
    "        print(\"{}:{}\".format(key, word_counts[key]))\n",
    "\n"
   ]
  },
  {
   "cell_type": "code",
   "execution_count": null,
   "metadata": {},
   "outputs": [],
   "source": []
  }
 ],
 "metadata": {
  "kernelspec": {
   "display_name": "Python 3",
   "language": "python",
   "name": "python3"
  },
  "language_info": {
   "codemirror_mode": {
    "name": "ipython",
    "version": 3
   },
   "file_extension": ".py",
   "mimetype": "text/x-python",
   "name": "python",
   "nbconvert_exporter": "python",
   "pygments_lexer": "ipython3",
   "version": "3.6.5"
  }
 },
 "nbformat": 4,
 "nbformat_minor": 2
}
